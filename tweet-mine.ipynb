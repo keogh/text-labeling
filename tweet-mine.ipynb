{
 "cells": [
  {
   "cell_type": "markdown",
   "metadata": {},
   "source": [
    "The idea is to traverse the `tweets` directory and open all `.json.bz2` files and select only the tweets that mention Doland Trump `@realDonaldTrump`\n",
    "\n",
    "https://archive.org/details/archiveteam-twitter-stream-2017-10"
   ]
  },
  {
   "cell_type": "code",
   "execution_count": 104,
   "metadata": {},
   "outputs": [],
   "source": [
    "import os\n",
    "import json\n",
    "import bz2\n",
    "import csv"
   ]
  },
  {
   "cell_type": "code",
   "execution_count": 28,
   "metadata": {},
   "outputs": [],
   "source": [
    "rootDir = 'tweets'\n",
    "selectedFiles = list()\n",
    "for dirName, subdirList, fileList in os.walk(rootDir, topdown=False):\n",
    "    #print('Found directory: %s' % dirName)\n",
    "    for fname in fileList:\n",
    "        if fname != \".DS_Store\":\n",
    "            selectedFiles.append(os.path.join('.', dirName, fname))"
   ]
  },
  {
   "cell_type": "code",
   "execution_count": 29,
   "metadata": {},
   "outputs": [
    {
     "data": {
      "text/plain": [
       "1410"
      ]
     },
     "execution_count": 29,
     "metadata": {},
     "output_type": "execute_result"
    }
   ],
   "source": [
    "len(selectedFiles)"
   ]
  },
  {
   "cell_type": "code",
   "execution_count": 92,
   "metadata": {},
   "outputs": [
    {
     "name": "stdout",
     "output_type": "stream",
     "text": [
      "Total Files: 1410\n",
      "Total processed tweets: 4441479\n",
      "Total selected tweets: 8940\n"
     ]
    }
   ],
   "source": [
    "tweets = list()\n",
    "totalIterations = 0\n",
    "\n",
    "for fname in selectedFiles:\n",
    "    for line in bz2.open(fname):\n",
    "        totalIterations += 1\n",
    "        tweet = json.loads(line)\n",
    "        if not 'text' in tweet:\n",
    "            continue\n",
    "        if not 'entities' in tweet:\n",
    "            continue\n",
    "        if not 'user_mentions' in tweet['entities']:\n",
    "            continue\n",
    "        if not len(tweet['entities']['user_mentions']):\n",
    "            continue\n",
    "        if len(list(filter(lambda mention: mention['screen_name'] == 'realDonaldTrump', tweet['entities']['user_mentions']))):\n",
    "            tweets.append(tweet)\n",
    "\n",
    "print('Total Files: %s' % len(selectedFiles))\n",
    "print('Total processed tweets: %s' % totalIterations)\n",
    "print('Total selected tweets: %s' % len(tweets))"
   ]
  },
  {
   "cell_type": "code",
   "execution_count": 103,
   "metadata": {},
   "outputs": [],
   "source": [
    "a = list(filter(lambda t: t['truncated'], tweets))\n",
    "a[0]['extended_tweet']['full_text']\n",
    "\n",
    "b = list(filter(lambda t: 'extended_tweet' not in t, tweets))"
   ]
  },
  {
   "cell_type": "markdown",
   "metadata": {},
   "source": [
    "Now we create the CSV file"
   ]
  },
  {
   "cell_type": "code",
   "execution_count": 105,
   "metadata": {},
   "outputs": [],
   "source": [
    "w = csv.writer(open('tweets-data.csv', 'w'))\n",
    "w.writerow(['text'])\n",
    "for tweet in tweets:\n",
    "    text = tweet['text']\n",
    "    if tweet['truncated'] and 'extended_tweet' in tweet:\n",
    "        text = tweet['extended_tweet']['full_text']\n",
    "    w.writerow([text])"
   ]
  },
  {
   "cell_type": "code",
   "execution_count": null,
   "metadata": {},
   "outputs": [],
   "source": []
  }
 ],
 "metadata": {
  "kernelspec": {
   "display_name": "Python 3",
   "language": "python",
   "name": "python3"
  },
  "language_info": {
   "codemirror_mode": {
    "name": "ipython",
    "version": 3
   },
   "file_extension": ".py",
   "mimetype": "text/x-python",
   "name": "python",
   "nbconvert_exporter": "python",
   "pygments_lexer": "ipython3",
   "version": "3.6.4"
  }
 },
 "nbformat": 4,
 "nbformat_minor": 2
}
